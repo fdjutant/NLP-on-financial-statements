{
 "cells": [
  {
   "cell_type": "markdown",
   "metadata": {},
   "source": [
    "# Text Processing Exercise \n",
    "\n",
    "In this exerise, you will learn some building blocks for text processing . You will learn how to normalize, tokenize, stemmeize, and lemmatize tweets from Twitter."
   ]
  },
  {
   "cell_type": "markdown",
   "metadata": {},
   "source": [
    "### Fetch Data from the online resource\n",
    "\n",
    "First, we will use the `get_tweets()` function from the `exercise_helper` module to get all the tweets from the following Twitter page https://twitter.com/AIForTrading1. This website corresponds to a Twitter account created especially for this course. This webiste contains 28 tweets, and our goal will be to get all these 28 tweets. The `get_tweets()` function uses the `requests` library and BeautifulSoup to get all the tweets from our website. In a later lesson we will learn how the use the `requests` library and BeautifulSoup to get data from websites. For now, we will just use this function to help us get the tweets we want."
   ]
  },
  {
   "cell_type": "code",
   "execution_count": 32,
   "metadata": {
    "scrolled": true
   },
   "outputs": [
    {
     "data": {
      "text/plain": [
       "['The Long-Term Stock Exchange Is Worth a Shot',\n",
       " 'Predicting Stock Performance with Natural Language Deep Learning',\n",
       " 'Comcast Acquiring Time Warner Cable In All Stock Deal Worth $45.2 Billion',\n",
       " 'Facebook stock drops more than 20% after revenue forecast misses',\n",
       " 'Facebook Buying WhatsApp for $16B in Cash and Stock Plus $3B in RSUs',\n",
       " 'Netflix’s ‘death cross’ is the third for FAANG stocks and Nasdaq Composite is next',\n",
       " 'After Yesterday’s Signs of Recovery, Crypto Markets See Drastic Losses',\n",
       " 'MF Sees Australia Risks Tilt to Downside on China, Trade War',\n",
       " 'Bitcoin Cash Clash Is Costing Billions With No End in Sight',\n",
       " 'SEC Crypto Settlements Spur Expectations of Wider ICO Crackdown',\n",
       " 'Nissan’s Drama Looks a Lot Like a Palace Coup',\n",
       " 'Yahoo Finance has apparently killed its API',\n",
       " 'Tesla Tanks After Goldman Downgrades to Sell',\n",
       " 'Goldman Sachs to Open a Bitcoin Trading Operation',\n",
       " 'Tax-Free Bitcoin-To-Ether Trading in US to End Under GOP Plan',\n",
       " 'Goldman Sachs Is Setting Up a Cryptocurrency Trading Desk',\n",
       " 'Robinhood stock trading app confirms $110M raise at $1.3B valuation',\n",
       " 'How I made $500k with machine learning and high frequency trading',\n",
       " \"Tesla's Finance Team Is Losing Another Top Executive\",\n",
       " 'Finance sites erroneously show Amazon, Apple, other stocks crashing',\n",
       " 'Jeff Bezos Says He Is Selling $1 Billion a Year in Amazon Stock to Finance Race to Space',\n",
       " 'US government commits to publish publicly financed software under Free Software licenses',\n",
       " 'The dream life is having your luggage first out of the carousel each time.',\n",
       " 'Stocks Sink as Apple, Facebook Pace the Tech Wreck: Markets Wrap',\n",
       " \"Elon Musk's SpaceX Cuts Loan Deal by $500 Million\",\n",
       " 'Nvidia Stock Falls Another 12%',\n",
       " 'Anything is possible in this world! Exhibit A: Creation of a sequel to Superbabies.',\n",
       " 'Elon Musk forced to step down as chairman, TSLA short all the way!']"
      ]
     },
     "execution_count": 32,
     "metadata": {},
     "output_type": "execute_result"
    }
   ],
   "source": [
    "import exercise_helper\n",
    "\n",
    "all_tweets = exercise_helper.get_tweets()\n",
    "all_tweets"
   ]
  },
  {
   "cell_type": "markdown",
   "metadata": {},
   "source": [
    "### Normalization\n",
    "Text normalization is the process of transforming text into a single canonical form.\n",
    "\n",
    "There are many normalization techniques, however, in this exercise we focus on two methods. First, we'll converting the text into lowercase and second, remove all the punctuation characters the text.\n",
    "\n",
    "#### TODO: Part 1\n",
    "\n",
    "Convert text to lowercase.\n",
    "\n",
    "Use the Python built-in method `.lower()` for converting each tweet in `all_tweets` into the lower case."
   ]
  },
  {
   "cell_type": "code",
   "execution_count": 33,
   "metadata": {},
   "outputs": [
    {
     "data": {
      "text/plain": [
       "['the long-term stock exchange is worth a shot',\n",
       " 'predicting stock performance with natural language deep learning',\n",
       " 'comcast acquiring time warner cable in all stock deal worth $45.2 billion',\n",
       " 'facebook stock drops more than 20% after revenue forecast misses',\n",
       " 'facebook buying whatsapp for $16b in cash and stock plus $3b in rsus',\n",
       " 'netflix’s ‘death cross’ is the third for faang stocks and nasdaq composite is next',\n",
       " 'after yesterday’s signs of recovery, crypto markets see drastic losses',\n",
       " 'mf sees australia risks tilt to downside on china, trade war',\n",
       " 'bitcoin cash clash is costing billions with no end in sight',\n",
       " 'sec crypto settlements spur expectations of wider ico crackdown',\n",
       " 'nissan’s drama looks a lot like a palace coup',\n",
       " 'yahoo finance has apparently killed its api',\n",
       " 'tesla tanks after goldman downgrades to sell',\n",
       " 'goldman sachs to open a bitcoin trading operation',\n",
       " 'tax-free bitcoin-to-ether trading in us to end under gop plan',\n",
       " 'goldman sachs is setting up a cryptocurrency trading desk',\n",
       " 'robinhood stock trading app confirms $110m raise at $1.3b valuation',\n",
       " 'how i made $500k with machine learning and high frequency trading',\n",
       " \"tesla's finance team is losing another top executive\",\n",
       " 'finance sites erroneously show amazon, apple, other stocks crashing',\n",
       " 'jeff bezos says he is selling $1 billion a year in amazon stock to finance race to space',\n",
       " 'us government commits to publish publicly financed software under free software licenses',\n",
       " 'the dream life is having your luggage first out of the carousel each time.',\n",
       " 'stocks sink as apple, facebook pace the tech wreck: markets wrap',\n",
       " \"elon musk's spacex cuts loan deal by $500 million\",\n",
       " 'nvidia stock falls another 12%',\n",
       " 'anything is possible in this world! exhibit a: creation of a sequel to superbabies.',\n",
       " 'elon musk forced to step down as chairman, tsla short all the way!']"
      ]
     },
     "execution_count": 33,
     "metadata": {},
     "output_type": "execute_result"
    }
   ],
   "source": [
    "# your code goes here\n",
    "# all_tweets = [all_tweets[i].lower() for i in range(len(all_tweets))]\n",
    "count = 0\n",
    "for tweet in all_tweets:\n",
    "    all_tweets[count] = tweet.lower()\n",
    "    count += 1\n",
    "all_tweets"
   ]
  },
  {
   "cell_type": "markdown",
   "metadata": {},
   "source": [
    "#### Part 2 \n",
    "\n",
    "Here, we are using `Regular Expression` library to remove punctuation characters. \n",
    "\n",
    "The easiest way to remove specific punctuation characters is with regex, the `re` module. You can sub out specific patterns with a space:\n",
    "\n",
    "```python\n",
    "re.sub(pattern, ' ', text) \n",
    "```\n",
    "\n",
    "This will substitute a space with anywhere the pattern matches in the text. \n",
    "\n",
    "Pattern for punctuation is the following `[^a-zA-Z0-9]`. "
   ]
  },
  {
   "cell_type": "code",
   "execution_count": 34,
   "metadata": {},
   "outputs": [
    {
     "data": {
      "text/plain": [
       "['the long term stock exchange is worth a shot',\n",
       " 'predicting stock performance with natural language deep learning',\n",
       " 'comcast acquiring time warner cable in all stock deal worth  45 2 billion',\n",
       " 'facebook stock drops more than 20  after revenue forecast misses',\n",
       " 'facebook buying whatsapp for  16b in cash and stock plus  3b in rsus',\n",
       " 'netflix s  death cross  is the third for faang stocks and nasdaq composite is next',\n",
       " 'after yesterday s signs of recovery  crypto markets see drastic losses',\n",
       " 'mf sees australia risks tilt to downside on china  trade war',\n",
       " 'bitcoin cash clash is costing billions with no end in sight',\n",
       " 'sec crypto settlements spur expectations of wider ico crackdown',\n",
       " 'nissan s drama looks a lot like a palace coup',\n",
       " 'yahoo finance has apparently killed its api',\n",
       " 'tesla tanks after goldman downgrades to sell',\n",
       " 'goldman sachs to open a bitcoin trading operation',\n",
       " 'tax free bitcoin to ether trading in us to end under gop plan',\n",
       " 'goldman sachs is setting up a cryptocurrency trading desk',\n",
       " 'robinhood stock trading app confirms  110m raise at  1 3b valuation',\n",
       " 'how i made  500k with machine learning and high frequency trading',\n",
       " 'tesla s finance team is losing another top executive',\n",
       " 'finance sites erroneously show amazon  apple  other stocks crashing',\n",
       " 'jeff bezos says he is selling  1 billion a year in amazon stock to finance race to space',\n",
       " 'us government commits to publish publicly financed software under free software licenses',\n",
       " 'the dream life is having your luggage first out of the carousel each time ',\n",
       " 'stocks sink as apple  facebook pace the tech wreck  markets wrap',\n",
       " 'elon musk s spacex cuts loan deal by  500 million',\n",
       " 'nvidia stock falls another 12 ',\n",
       " 'anything is possible in this world  exhibit a  creation of a sequel to superbabies ',\n",
       " 'elon musk forced to step down as chairman  tsla short all the way ']"
      ]
     },
     "execution_count": 34,
     "metadata": {},
     "output_type": "execute_result"
    }
   ],
   "source": [
    "import re\n",
    "\n",
    "counter = 0\n",
    "\n",
    "for tweet in all_tweets:\n",
    "    all_tweets[counter] = re.sub(r'[^a-zA-Z0-9]', ' ', tweet) \n",
    "    counter += 1\n",
    "\n",
    "all_tweets"
   ]
  },
  {
   "cell_type": "markdown",
   "metadata": {},
   "source": [
    "### NLTK: Natural Language ToolKit\n",
    "\n",
    "NLTK is a leading platform for building Python programs to work with human language data. It has a suite of tools for classification, tokenization, stemming, tagging, parsing, and semantic reasoning. \n",
    "\n",
    "Let's import NLTK. "
   ]
  },
  {
   "cell_type": "code",
   "execution_count": 35,
   "metadata": {},
   "outputs": [
    {
     "name": "stdout",
     "output_type": "stream",
     "text": [
      "c:\\Users\\frank\\Desktop\\trading-projects\\NLP-on-financial-statements\\exercises\\L3-processing-tweets\\nltk_data\n"
     ]
    }
   ],
   "source": [
    "import os \n",
    "import nltk \n",
    "nltk.data.path.append(os.path.join(os.getcwd(), \"nltk_data\"))\n",
    "print(os.path.join(os.getcwd(), \"nltk_data\"))"
   ]
  },
  {
   "cell_type": "markdown",
   "metadata": {},
   "source": [
    "#### TODO: Part 1\n",
    "\n",
    "NLTK has `TweetTokenizer` method that splits tweets into tokens.\n",
    "\n",
    "This make tokenizng tweets much easier and faster. \n",
    "\n",
    "For `TweetTokenizer`, you can pass the following argument `(preserve_case= False)` to make your tokens in lower case. In the cell below tokenize each tweet in `all_tweets` "
   ]
  },
  {
   "cell_type": "code",
   "execution_count": 36,
   "metadata": {},
   "outputs": [
    {
     "name": "stdout",
     "output_type": "stream",
     "text": [
      "['the', 'long', 'term', 'stock', 'exchange', 'is', 'worth', 'a', 'shot']\n",
      "['predicting', 'stock', 'performance', 'with', 'natural', 'language', 'deep', 'learning']\n",
      "['comcast', 'acquiring', 'time', 'warner', 'cable', 'in', 'all', 'stock', 'deal', 'worth', '45', '2', 'billion']\n",
      "['facebook', 'stock', 'drops', 'more', 'than', '20', 'after', 'revenue', 'forecast', 'misses']\n",
      "['facebook', 'buying', 'whatsapp', 'for', '16b', 'in', 'cash', 'and', 'stock', 'plus', '3b', 'in', 'rsus']\n",
      "['netflix', 's', 'death', 'cross', 'is', 'the', 'third', 'for', 'faang', 'stocks', 'and', 'nasdaq', 'composite', 'is', 'next']\n",
      "['after', 'yesterday', 's', 'signs', 'of', 'recovery', 'crypto', 'markets', 'see', 'drastic', 'losses']\n",
      "['mf', 'sees', 'australia', 'risks', 'tilt', 'to', 'downside', 'on', 'china', 'trade', 'war']\n",
      "['bitcoin', 'cash', 'clash', 'is', 'costing', 'billions', 'with', 'no', 'end', 'in', 'sight']\n",
      "['sec', 'crypto', 'settlements', 'spur', 'expectations', 'of', 'wider', 'ico', 'crackdown']\n",
      "['nissan', 's', 'drama', 'looks', 'a', 'lot', 'like', 'a', 'palace', 'coup']\n",
      "['yahoo', 'finance', 'has', 'apparently', 'killed', 'its', 'api']\n",
      "['tesla', 'tanks', 'after', 'goldman', 'downgrades', 'to', 'sell']\n",
      "['goldman', 'sachs', 'to', 'open', 'a', 'bitcoin', 'trading', 'operation']\n",
      "['tax', 'free', 'bitcoin', 'to', 'ether', 'trading', 'in', 'us', 'to', 'end', 'under', 'gop', 'plan']\n",
      "['goldman', 'sachs', 'is', 'setting', 'up', 'a', 'cryptocurrency', 'trading', 'desk']\n",
      "['robinhood', 'stock', 'trading', 'app', 'confirms', '110m', 'raise', 'at', '1', '3b', 'valuation']\n",
      "['how', 'i', 'made', '500k', 'with', 'machine', 'learning', 'and', 'high', 'frequency', 'trading']\n",
      "['tesla', 's', 'finance', 'team', 'is', 'losing', 'another', 'top', 'executive']\n",
      "['finance', 'sites', 'erroneously', 'show', 'amazon', 'apple', 'other', 'stocks', 'crashing']\n",
      "['jeff', 'bezos', 'says', 'he', 'is', 'selling', '1', 'billion', 'a', 'year', 'in', 'amazon', 'stock', 'to', 'finance', 'race', 'to', 'space']\n",
      "['us', 'government', 'commits', 'to', 'publish', 'publicly', 'financed', 'software', 'under', 'free', 'software', 'licenses']\n",
      "['the', 'dream', 'life', 'is', 'having', 'your', 'luggage', 'first', 'out', 'of', 'the', 'carousel', 'each', 'time']\n",
      "['stocks', 'sink', 'as', 'apple', 'facebook', 'pace', 'the', 'tech', 'wreck', 'markets', 'wrap']\n",
      "['elon', 'musk', 's', 'spacex', 'cuts', 'loan', 'deal', 'by', '500', 'million']\n",
      "['nvidia', 'stock', 'falls', 'another', '12']\n",
      "['anything', 'is', 'possible', 'in', 'this', 'world', 'exhibit', 'a', 'creation', 'of', 'a', 'sequel', 'to', 'superbabies']\n",
      "['elon', 'musk', 'forced', 'to', 'step', 'down', 'as', 'chairman', 'tsla', 'short', 'all', 'the', 'way']\n"
     ]
    }
   ],
   "source": [
    "from nltk.tokenize import TweetTokenizer\n",
    "\n",
    "#  your code goes here\n",
    "tk = TweetTokenizer(preserve_case=False)\n",
    "# tokenized_tweets = [tk.tokenize(all_tweets[i]) for i in range(len(all_tweets)) ]\n",
    "# tokenized_tweets\n",
    "\n",
    "tknzr = TweetTokenizer(preserve_case= False)\n",
    "for tweet in all_tweets:\n",
    "    print(tknzr.tokenize(tweet))"
   ]
  },
  {
   "cell_type": "markdown",
   "metadata": {},
   "source": [
    "#### Part 2\n",
    "\n",
    "NLTK adds more modularity for tokenization.\n",
    "\n",
    "For example, stop words are words which do not contain important significance to be used in text analysis. They are repetitive words such as \"the\", \"and\", \"if\", etc. Ideally, we want to remove these words from our tokenized lists. \n",
    "\n",
    "NLTK has a list of these words, `nltk.corpus.stopwords`, which you actually need to download through `nltk.download`.\n",
    "\n",
    "Let's print out stopwords in English to see what these words are. "
   ]
  },
  {
   "cell_type": "code",
   "execution_count": 37,
   "metadata": {},
   "outputs": [
    {
     "name": "stderr",
     "output_type": "stream",
     "text": [
      "[nltk_data] Downloading package stopwords to\n",
      "[nltk_data]     C:\\Users\\frank\\AppData\\Roaming\\nltk_data...\n",
      "[nltk_data]   Package stopwords is already up-to-date!\n"
     ]
    },
    {
     "data": {
      "text/plain": [
       "True"
      ]
     },
     "execution_count": 37,
     "metadata": {},
     "output_type": "execute_result"
    }
   ],
   "source": [
    "from nltk.corpus import stopwords\n",
    "nltk.download(\"stopwords\")"
   ]
  },
  {
   "cell_type": "markdown",
   "metadata": {},
   "source": [
    "### TODO: \n",
    "\n",
    "print stop words in English"
   ]
  },
  {
   "cell_type": "code",
   "execution_count": 38,
   "metadata": {},
   "outputs": [
    {
     "data": {
      "text/plain": [
       "{'a',\n",
       " 'about',\n",
       " 'above',\n",
       " 'after',\n",
       " 'again',\n",
       " 'against',\n",
       " 'ain',\n",
       " 'all',\n",
       " 'am',\n",
       " 'an',\n",
       " 'and',\n",
       " 'any',\n",
       " 'are',\n",
       " 'aren',\n",
       " \"aren't\",\n",
       " 'as',\n",
       " 'at',\n",
       " 'be',\n",
       " 'because',\n",
       " 'been',\n",
       " 'before',\n",
       " 'being',\n",
       " 'below',\n",
       " 'between',\n",
       " 'both',\n",
       " 'but',\n",
       " 'by',\n",
       " 'can',\n",
       " 'couldn',\n",
       " \"couldn't\",\n",
       " 'd',\n",
       " 'did',\n",
       " 'didn',\n",
       " \"didn't\",\n",
       " 'do',\n",
       " 'does',\n",
       " 'doesn',\n",
       " \"doesn't\",\n",
       " 'doing',\n",
       " 'don',\n",
       " \"don't\",\n",
       " 'down',\n",
       " 'during',\n",
       " 'each',\n",
       " 'few',\n",
       " 'for',\n",
       " 'from',\n",
       " 'further',\n",
       " 'had',\n",
       " 'hadn',\n",
       " \"hadn't\",\n",
       " 'has',\n",
       " 'hasn',\n",
       " \"hasn't\",\n",
       " 'have',\n",
       " 'haven',\n",
       " \"haven't\",\n",
       " 'having',\n",
       " 'he',\n",
       " 'her',\n",
       " 'here',\n",
       " 'hers',\n",
       " 'herself',\n",
       " 'him',\n",
       " 'himself',\n",
       " 'his',\n",
       " 'how',\n",
       " 'i',\n",
       " 'if',\n",
       " 'in',\n",
       " 'into',\n",
       " 'is',\n",
       " 'isn',\n",
       " \"isn't\",\n",
       " 'it',\n",
       " \"it's\",\n",
       " 'its',\n",
       " 'itself',\n",
       " 'just',\n",
       " 'll',\n",
       " 'm',\n",
       " 'ma',\n",
       " 'me',\n",
       " 'mightn',\n",
       " \"mightn't\",\n",
       " 'more',\n",
       " 'most',\n",
       " 'mustn',\n",
       " \"mustn't\",\n",
       " 'my',\n",
       " 'myself',\n",
       " 'needn',\n",
       " \"needn't\",\n",
       " 'no',\n",
       " 'nor',\n",
       " 'not',\n",
       " 'now',\n",
       " 'o',\n",
       " 'of',\n",
       " 'off',\n",
       " 'on',\n",
       " 'once',\n",
       " 'only',\n",
       " 'or',\n",
       " 'other',\n",
       " 'our',\n",
       " 'ours',\n",
       " 'ourselves',\n",
       " 'out',\n",
       " 'over',\n",
       " 'own',\n",
       " 're',\n",
       " 's',\n",
       " 'same',\n",
       " 'shan',\n",
       " \"shan't\",\n",
       " 'she',\n",
       " \"she's\",\n",
       " 'should',\n",
       " \"should've\",\n",
       " 'shouldn',\n",
       " \"shouldn't\",\n",
       " 'so',\n",
       " 'some',\n",
       " 'such',\n",
       " 't',\n",
       " 'than',\n",
       " 'that',\n",
       " \"that'll\",\n",
       " 'the',\n",
       " 'their',\n",
       " 'theirs',\n",
       " 'them',\n",
       " 'themselves',\n",
       " 'then',\n",
       " 'there',\n",
       " 'these',\n",
       " 'they',\n",
       " 'this',\n",
       " 'those',\n",
       " 'through',\n",
       " 'to',\n",
       " 'too',\n",
       " 'under',\n",
       " 'until',\n",
       " 'up',\n",
       " 've',\n",
       " 'very',\n",
       " 'was',\n",
       " 'wasn',\n",
       " \"wasn't\",\n",
       " 'we',\n",
       " 'were',\n",
       " 'weren',\n",
       " \"weren't\",\n",
       " 'what',\n",
       " 'when',\n",
       " 'where',\n",
       " 'which',\n",
       " 'while',\n",
       " 'who',\n",
       " 'whom',\n",
       " 'why',\n",
       " 'will',\n",
       " 'with',\n",
       " 'won',\n",
       " \"won't\",\n",
       " 'wouldn',\n",
       " \"wouldn't\",\n",
       " 'y',\n",
       " 'you',\n",
       " \"you'd\",\n",
       " \"you'll\",\n",
       " \"you're\",\n",
       " \"you've\",\n",
       " 'your',\n",
       " 'yours',\n",
       " 'yourself',\n",
       " 'yourselves'}"
      ]
     },
     "execution_count": 38,
     "metadata": {},
     "output_type": "execute_result"
    }
   ],
   "source": [
    "# your code is here\n",
    "stopWords = set(stopwords.words('english'))\n",
    "stopWords"
   ]
  },
  {
   "cell_type": "markdown",
   "metadata": {},
   "source": [
    "#### TODO: Part 3 \n",
    "\n",
    "In the cell below use the `.split()` method to split each tweet into a list of words and remove the stop words from all the tweets."
   ]
  },
  {
   "cell_type": "code",
   "execution_count": 40,
   "metadata": {},
   "outputs": [
    {
     "name": "stdout",
     "output_type": "stream",
     "text": [
      "['the', 'long', 'term', 'stock', 'exchange', 'is', 'worth', 'a', 'shot']\n",
      "['predicting', 'stock', 'performance', 'with', 'natural', 'language', 'deep', 'learning']\n",
      "['comcast', 'acquiring', 'time', 'warner', 'cable', 'in', 'all', 'stock', 'deal', 'worth', '45', '2', 'billion']\n",
      "['facebook', 'stock', 'drops', 'more', 'than', '20', 'after', 'revenue', 'forecast', 'misses']\n",
      "['facebook', 'buying', 'whatsapp', 'for', '16b', 'in', 'cash', 'and', 'stock', 'plus', '3b', 'in', 'rsus']\n",
      "['netflix', 's', 'death', 'cross', 'is', 'the', 'third', 'for', 'faang', 'stocks', 'and', 'nasdaq', 'composite', 'is', 'next']\n",
      "['after', 'yesterday', 's', 'signs', 'of', 'recovery', 'crypto', 'markets', 'see', 'drastic', 'losses']\n",
      "['mf', 'sees', 'australia', 'risks', 'tilt', 'to', 'downside', 'on', 'china', 'trade', 'war']\n",
      "['bitcoin', 'cash', 'clash', 'is', 'costing', 'billions', 'with', 'no', 'end', 'in', 'sight']\n",
      "['sec', 'crypto', 'settlements', 'spur', 'expectations', 'of', 'wider', 'ico', 'crackdown']\n",
      "['nissan', 's', 'drama', 'looks', 'a', 'lot', 'like', 'a', 'palace', 'coup']\n",
      "['yahoo', 'finance', 'has', 'apparently', 'killed', 'its', 'api']\n",
      "['tesla', 'tanks', 'after', 'goldman', 'downgrades', 'to', 'sell']\n",
      "['goldman', 'sachs', 'to', 'open', 'a', 'bitcoin', 'trading', 'operation']\n",
      "['tax', 'free', 'bitcoin', 'to', 'ether', 'trading', 'in', 'us', 'to', 'end', 'under', 'gop', 'plan']\n",
      "['goldman', 'sachs', 'is', 'setting', 'up', 'a', 'cryptocurrency', 'trading', 'desk']\n",
      "['robinhood', 'stock', 'trading', 'app', 'confirms', '110m', 'raise', 'at', '1', '3b', 'valuation']\n",
      "['how', 'i', 'made', '500k', 'with', 'machine', 'learning', 'and', 'high', 'frequency', 'trading']\n",
      "['tesla', 's', 'finance', 'team', 'is', 'losing', 'another', 'top', 'executive']\n",
      "['finance', 'sites', 'erroneously', 'show', 'amazon', 'apple', 'other', 'stocks', 'crashing']\n",
      "['jeff', 'bezos', 'says', 'he', 'is', 'selling', '1', 'billion', 'a', 'year', 'in', 'amazon', 'stock', 'to', 'finance', 'race', 'to', 'space']\n",
      "['us', 'government', 'commits', 'to', 'publish', 'publicly', 'financed', 'software', 'under', 'free', 'software', 'licenses']\n",
      "['the', 'dream', 'life', 'is', 'having', 'your', 'luggage', 'first', 'out', 'of', 'the', 'carousel', 'each', 'time']\n",
      "['stocks', 'sink', 'as', 'apple', 'facebook', 'pace', 'the', 'tech', 'wreck', 'markets', 'wrap']\n",
      "['elon', 'musk', 's', 'spacex', 'cuts', 'loan', 'deal', 'by', '500', 'million']\n",
      "['nvidia', 'stock', 'falls', 'another', '12']\n",
      "['anything', 'is', 'possible', 'in', 'this', 'world', 'exhibit', 'a', 'creation', 'of', 'a', 'sequel', 'to', 'superbabies']\n",
      "['elon', 'musk', 'forced', 'to', 'step', 'down', 'as', 'chairman', 'tsla', 'short', 'all', 'the', 'way']\n"
     ]
    }
   ],
   "source": [
    "## your code is here \n",
    "# all_tweets_split = [all_tweets[i].split() for i in range(len(all_tweets))]\n",
    "# all_tweets_split\n",
    "for tweet in all_tweets:\n",
    "    words = tweet.split()\n",
    "    print(words)\n",
    "    "
   ]
  },
  {
   "cell_type": "markdown",
   "metadata": {},
   "source": [
    "### Stemming\n",
    "Stemming is the process of reducing words to their word stem, base or root form.\n",
    "\n",
    "### TODO:\n",
    "\n",
    "In the cell below, use  the `PorterStemmer` method from the ntlk library to perform stemming on all the tweets"
   ]
  },
  {
   "cell_type": "code",
   "execution_count": 44,
   "metadata": {},
   "outputs": [
    {
     "name": "stdout",
     "output_type": "stream",
     "text": [
      "['long', 'term', 'stock', 'exchang', 'worth', 'shot']\n",
      "['predict', 'stock', 'perform', 'natur', 'languag', 'deep', 'learn']\n",
      "['comcast', 'acquir', 'time', 'warner', 'cabl', 'stock', 'deal', 'worth', '45', '2', 'billion']\n",
      "['facebook', 'stock', 'drop', '20', 'revenu', 'forecast', 'miss']\n",
      "['facebook', 'buy', 'whatsapp', '16b', 'cash', 'stock', 'plu', '3b', 'rsu']\n",
      "['netflix', 'death', 'cross', 'third', 'faang', 'stock', 'nasdaq', 'composit', 'next']\n",
      "['yesterday', 'sign', 'recoveri', 'crypto', 'market', 'see', 'drastic', 'loss']\n",
      "['mf', 'see', 'australia', 'risk', 'tilt', 'downsid', 'china', 'trade', 'war']\n",
      "['bitcoin', 'cash', 'clash', 'cost', 'billion', 'end', 'sight']\n",
      "['sec', 'crypto', 'settlement', 'spur', 'expect', 'wider', 'ico', 'crackdown']\n",
      "['nissan', 'drama', 'look', 'lot', 'like', 'palac', 'coup']\n",
      "['yahoo', 'financ', 'appar', 'kill', 'api']\n",
      "['tesla', 'tank', 'goldman', 'downgrad', 'sell']\n",
      "['goldman', 'sach', 'open', 'bitcoin', 'trade', 'oper']\n",
      "['tax', 'free', 'bitcoin', 'ether', 'trade', 'us', 'end', 'gop', 'plan']\n",
      "['goldman', 'sach', 'set', 'cryptocurr', 'trade', 'desk']\n",
      "['robinhood', 'stock', 'trade', 'app', 'confirm', '110m', 'rais', '1', '3b', 'valuat']\n",
      "['made', '500k', 'machin', 'learn', 'high', 'frequenc', 'trade']\n",
      "['tesla', 'financ', 'team', 'lose', 'anoth', 'top', 'execut']\n",
      "['financ', 'site', 'erron', 'show', 'amazon', 'appl', 'stock', 'crash']\n",
      "['jeff', 'bezo', 'say', 'sell', '1', 'billion', 'year', 'amazon', 'stock', 'financ', 'race', 'space']\n",
      "['us', 'govern', 'commit', 'publish', 'publicli', 'financ', 'softwar', 'free', 'softwar', 'licens']\n",
      "['dream', 'life', 'luggag', 'first', 'carousel', 'time']\n",
      "['stock', 'sink', 'appl', 'facebook', 'pace', 'tech', 'wreck', 'market', 'wrap']\n",
      "['elon', 'musk', 'spacex', 'cut', 'loan', 'deal', '500', 'million']\n",
      "['nvidia', 'stock', 'fall', 'anoth', '12']\n",
      "['anyth', 'possibl', 'world', 'exhibit', 'creation', 'sequel', 'superbabi']\n",
      "['elon', 'musk', 'forc', 'step', 'chairman', 'tsla', 'short', 'way']\n"
     ]
    }
   ],
   "source": [
    "from nltk.stem.porter import PorterStemmer\n",
    "\n",
    "# your code goes here\n",
    "stemmer = PorterStemmer()\n",
    "for tweet in all_tweets:\n",
    "    words = tweet.split()\n",
    "    # print(words)\n",
    "\n",
    "    filtered_words = [w for w in words if w not in stopwords.words(\"english\")]\n",
    "    # print(filtered_words)\n",
    "\n",
    "    print([PorterStemmer().stem(w) for w in filtered_words])\n"
   ]
  },
  {
   "cell_type": "markdown",
   "metadata": {},
   "source": [
    "### Lemmatizing\n",
    "#### Part 1\n",
    "\n",
    "Lemmatization is the process of grouping together the inflected forms of a word so they can be analyzed as a single item.\n",
    "\n",
    "For reducing the words into their root form, you can use `WordNetLemmatizer()` method. \n",
    "\n",
    "For more information about lemmatzing in NLTK, please take a look at NLTK documentation https://www.nltk.org/api/nltk.stem.html\n",
    "\n",
    "If you like to understand more about Stemming and Lemmatizing, take a look at the following source: \n",
    "https://nlp.stanford.edu/IR-book/html/htmledition/stemming-and-lemmatization-1.html"
   ]
  },
  {
   "cell_type": "code",
   "execution_count": 42,
   "metadata": {},
   "outputs": [
    {
     "name": "stderr",
     "output_type": "stream",
     "text": [
      "[nltk_data] Downloading package wordnet to\n",
      "[nltk_data]     C:\\Users\\frank\\AppData\\Roaming\\nltk_data...\n",
      "[nltk_data]   Package wordnet is already up-to-date!\n"
     ]
    },
    {
     "data": {
      "text/plain": [
       "True"
      ]
     },
     "execution_count": 42,
     "metadata": {},
     "output_type": "execute_result"
    }
   ],
   "source": [
    "nltk.download('wordnet') ### download this part "
   ]
  },
  {
   "cell_type": "markdown",
   "metadata": {},
   "source": [
    "### TODO:\n",
    "\n",
    "In the cell below, use the `WordNetLemmatizer()` method to lemmatize all the tweets"
   ]
  },
  {
   "cell_type": "code",
   "execution_count": 45,
   "metadata": {},
   "outputs": [
    {
     "name": "stdout",
     "output_type": "stream",
     "text": [
      "['long', 'term', 'stock', 'exchange', 'worth', 'shot']\n",
      "['predicting', 'stock', 'performance', 'natural', 'language', 'deep', 'learning']\n",
      "['comcast', 'acquiring', 'time', 'warner', 'cable', 'stock', 'deal', 'worth', '45', '2', 'billion']\n",
      "['facebook', 'stock', 'drop', '20', 'revenue', 'forecast', 'miss']\n",
      "['facebook', 'buying', 'whatsapp', '16b', 'cash', 'stock', 'plus', '3b', 'rsus']\n",
      "['netflix', 'death', 'cross', 'third', 'faang', 'stock', 'nasdaq', 'composite', 'next']\n",
      "['yesterday', 'sign', 'recovery', 'crypto', 'market', 'see', 'drastic', 'loss']\n",
      "['mf', 'see', 'australia', 'risk', 'tilt', 'downside', 'china', 'trade', 'war']\n",
      "['bitcoin', 'cash', 'clash', 'costing', 'billion', 'end', 'sight']\n",
      "['sec', 'crypto', 'settlement', 'spur', 'expectation', 'wider', 'ico', 'crackdown']\n",
      "['nissan', 'drama', 'look', 'lot', 'like', 'palace', 'coup']\n",
      "['yahoo', 'finance', 'apparently', 'killed', 'api']\n",
      "['tesla', 'tank', 'goldman', 'downgrade', 'sell']\n",
      "['goldman', 'sachs', 'open', 'bitcoin', 'trading', 'operation']\n",
      "['tax', 'free', 'bitcoin', 'ether', 'trading', 'u', 'end', 'gop', 'plan']\n",
      "['goldman', 'sachs', 'setting', 'cryptocurrency', 'trading', 'desk']\n",
      "['robinhood', 'stock', 'trading', 'app', 'confirms', '110m', 'raise', '1', '3b', 'valuation']\n",
      "['made', '500k', 'machine', 'learning', 'high', 'frequency', 'trading']\n",
      "['tesla', 'finance', 'team', 'losing', 'another', 'top', 'executive']\n",
      "['finance', 'site', 'erroneously', 'show', 'amazon', 'apple', 'stock', 'crashing']\n",
      "['jeff', 'bezos', 'say', 'selling', '1', 'billion', 'year', 'amazon', 'stock', 'finance', 'race', 'space']\n",
      "['u', 'government', 'commits', 'publish', 'publicly', 'financed', 'software', 'free', 'software', 'license']\n",
      "['dream', 'life', 'luggage', 'first', 'carousel', 'time']\n",
      "['stock', 'sink', 'apple', 'facebook', 'pace', 'tech', 'wreck', 'market', 'wrap']\n",
      "['elon', 'musk', 'spacex', 'cut', 'loan', 'deal', '500', 'million']\n",
      "['nvidia', 'stock', 'fall', 'another', '12']\n",
      "['anything', 'possible', 'world', 'exhibit', 'creation', 'sequel', 'superbabies']\n",
      "['elon', 'musk', 'forced', 'step', 'chairman', 'tsla', 'short', 'way']\n"
     ]
    }
   ],
   "source": [
    "from nltk.stem.wordnet import WordNetLemmatizer\n",
    "\n",
    "# your code goes here\n",
    "lemmamer = WordNetLemmatizer()\n",
    "for tweet in all_tweets:\n",
    "    words = tweet.split()\n",
    "    # print(words)\n",
    "\n",
    "    filtered_words = [w for w in words if w not in stopwords.words('english')]\n",
    "    # print(new_words)\n",
    "\n",
    "    print([lemmamer.lemmatize(w) for w in filtered_words])"
   ]
  },
  {
   "cell_type": "markdown",
   "metadata": {},
   "source": [
    "#### TODO: Part 2\n",
    "\n",
    "In the cell below, lemmatize verbs by specifying `pos`. For `WordNetLemmatizer().lemmatize` add `pos` as an argument."
   ]
  },
  {
   "cell_type": "code",
   "execution_count": 46,
   "metadata": {},
   "outputs": [
    {
     "name": "stdout",
     "output_type": "stream",
     "text": [
      "['long', 'term', 'stock', 'exchange', 'worth', 'shot']\n",
      "['elon', 'musk', 'force', 'step', 'chairman', 'tsla', 'short', 'way']\n",
      "['predicting', 'stock', 'performance', 'natural', 'language', 'deep', 'learning']\n",
      "['elon', 'musk', 'force', 'step', 'chairman', 'tsla', 'short', 'way']\n",
      "['comcast', 'acquiring', 'time', 'warner', 'cable', 'stock', 'deal', 'worth', '45', '2', 'billion']\n",
      "['elon', 'musk', 'force', 'step', 'chairman', 'tsla', 'short', 'way']\n",
      "['facebook', 'stock', 'drops', '20', 'revenue', 'forecast', 'misses']\n",
      "['elon', 'musk', 'force', 'step', 'chairman', 'tsla', 'short', 'way']\n",
      "['facebook', 'buying', 'whatsapp', '16b', 'cash', 'stock', 'plus', '3b', 'rsus']\n",
      "['elon', 'musk', 'force', 'step', 'chairman', 'tsla', 'short', 'way']\n",
      "['netflix', 'death', 'cross', 'third', 'faang', 'stocks', 'nasdaq', 'composite', 'next']\n",
      "['elon', 'musk', 'force', 'step', 'chairman', 'tsla', 'short', 'way']\n",
      "['yesterday', 'signs', 'recovery', 'crypto', 'markets', 'see', 'drastic', 'losses']\n",
      "['elon', 'musk', 'force', 'step', 'chairman', 'tsla', 'short', 'way']\n",
      "['mf', 'sees', 'australia', 'risks', 'tilt', 'downside', 'china', 'trade', 'war']\n",
      "['elon', 'musk', 'force', 'step', 'chairman', 'tsla', 'short', 'way']\n",
      "['bitcoin', 'cash', 'clash', 'costing', 'billions', 'end', 'sight']\n",
      "['elon', 'musk', 'force', 'step', 'chairman', 'tsla', 'short', 'way']\n",
      "['sec', 'crypto', 'settlements', 'spur', 'expectations', 'wider', 'ico', 'crackdown']\n",
      "['elon', 'musk', 'force', 'step', 'chairman', 'tsla', 'short', 'way']\n",
      "['nissan', 'drama', 'looks', 'lot', 'like', 'palace', 'coup']\n",
      "['elon', 'musk', 'force', 'step', 'chairman', 'tsla', 'short', 'way']\n",
      "['yahoo', 'finance', 'apparently', 'killed', 'api']\n",
      "['elon', 'musk', 'force', 'step', 'chairman', 'tsla', 'short', 'way']\n",
      "['tesla', 'tanks', 'goldman', 'downgrades', 'sell']\n",
      "['elon', 'musk', 'force', 'step', 'chairman', 'tsla', 'short', 'way']\n",
      "['goldman', 'sachs', 'open', 'bitcoin', 'trading', 'operation']\n",
      "['elon', 'musk', 'force', 'step', 'chairman', 'tsla', 'short', 'way']\n",
      "['tax', 'free', 'bitcoin', 'ether', 'trading', 'us', 'end', 'gop', 'plan']\n",
      "['elon', 'musk', 'force', 'step', 'chairman', 'tsla', 'short', 'way']\n",
      "['goldman', 'sachs', 'setting', 'cryptocurrency', 'trading', 'desk']\n",
      "['elon', 'musk', 'force', 'step', 'chairman', 'tsla', 'short', 'way']\n",
      "['robinhood', 'stock', 'trading', 'app', 'confirms', '110m', 'raise', '1', '3b', 'valuation']\n",
      "['elon', 'musk', 'force', 'step', 'chairman', 'tsla', 'short', 'way']\n",
      "['made', '500k', 'machine', 'learning', 'high', 'frequency', 'trading']\n",
      "['elon', 'musk', 'force', 'step', 'chairman', 'tsla', 'short', 'way']\n",
      "['tesla', 'finance', 'team', 'losing', 'another', 'top', 'executive']\n",
      "['elon', 'musk', 'force', 'step', 'chairman', 'tsla', 'short', 'way']\n",
      "['finance', 'sites', 'erroneously', 'show', 'amazon', 'apple', 'stocks', 'crashing']\n",
      "['elon', 'musk', 'force', 'step', 'chairman', 'tsla', 'short', 'way']\n",
      "['jeff', 'bezos', 'says', 'selling', '1', 'billion', 'year', 'amazon', 'stock', 'finance', 'race', 'space']\n",
      "['elon', 'musk', 'force', 'step', 'chairman', 'tsla', 'short', 'way']\n",
      "['us', 'government', 'commits', 'publish', 'publicly', 'financed', 'software', 'free', 'software', 'licenses']\n",
      "['elon', 'musk', 'force', 'step', 'chairman', 'tsla', 'short', 'way']\n",
      "['dream', 'life', 'luggage', 'first', 'carousel', 'time']\n",
      "['elon', 'musk', 'force', 'step', 'chairman', 'tsla', 'short', 'way']\n",
      "['stocks', 'sink', 'apple', 'facebook', 'pace', 'tech', 'wreck', 'markets', 'wrap']\n",
      "['elon', 'musk', 'force', 'step', 'chairman', 'tsla', 'short', 'way']\n",
      "['elon', 'musk', 'spacex', 'cuts', 'loan', 'deal', '500', 'million']\n",
      "['elon', 'musk', 'force', 'step', 'chairman', 'tsla', 'short', 'way']\n",
      "['nvidia', 'stock', 'falls', 'another', '12']\n",
      "['elon', 'musk', 'force', 'step', 'chairman', 'tsla', 'short', 'way']\n",
      "['anything', 'possible', 'world', 'exhibit', 'creation', 'sequel', 'superbabies']\n",
      "['elon', 'musk', 'force', 'step', 'chairman', 'tsla', 'short', 'way']\n",
      "['elon', 'musk', 'forced', 'step', 'chairman', 'tsla', 'short', 'way']\n",
      "['elon', 'musk', 'force', 'step', 'chairman', 'tsla', 'short', 'way']\n"
     ]
    }
   ],
   "source": [
    "from nltk.stem.wordnet import WordNetLemmatizer\n",
    "\n",
    "# your code goes here\n",
    "lemmamer = WordNetLemmatizer()\n",
    "for tweet in all_tweets:\n",
    "    words = tweet.split()\n",
    "    # print(words)\n",
    "\n",
    "    filtered_words = [w for w in words if w not in stopwords.words('english')]\n",
    "    print(filtered_words)\n",
    "\n",
    "    print([lemmamer.lemmatize(w, pos='v') for w in new_words])"
   ]
  },
  {
   "cell_type": "markdown",
   "metadata": {},
   "source": [
    "# Solution\n",
    "\n",
    "[Solution notebook](process_tweets_solution.ipynb)"
   ]
  },
  {
   "cell_type": "code",
   "execution_count": null,
   "metadata": {},
   "outputs": [],
   "source": []
  }
 ],
 "metadata": {
  "kernelspec": {
   "display_name": "Python 3",
   "language": "python",
   "name": "python3"
  },
  "language_info": {
   "codemirror_mode": {
    "name": "ipython",
    "version": 3
   },
   "file_extension": ".py",
   "mimetype": "text/x-python",
   "name": "python",
   "nbconvert_exporter": "python",
   "pygments_lexer": "ipython3",
   "version": "3.9.16"
  }
 },
 "nbformat": 4,
 "nbformat_minor": 2
}
